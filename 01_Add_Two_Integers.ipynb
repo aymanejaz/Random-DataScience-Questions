{
 "cells": [
  {
   "cell_type": "markdown",
   "id": "9347e045",
   "metadata": {},
   "source": [
    "### Given two integers num1 and num2, return the sum of the two integers.\n",
    " \n",
    "\n",
    "#### Example 1:\n",
    "\n",
    "Input: num1 = 12, num2 = 5\n",
    "Output: 17\n",
    "Explanation: num1 is 12, num2 is 5, and their sum is 12 + 5 = 17, so 17 is returned.\n",
    "\n",
    "#### Example 2:\n",
    "\n",
    "Input: num1 = -10, num2 = 4\n",
    "Output: -6\n",
    "Explanation: num1 + num2 = -6, so -6 is returned.\n",
    " \n",
    "\n",
    "Constraints:\n",
    "\n",
    "-100 <= num1, num2 <= 100"
   ]
  },
  {
   "cell_type": "code",
   "execution_count": 1,
   "id": "4d087f8c",
   "metadata": {},
   "outputs": [],
   "source": [
    "class Solution:\n",
    "    def sum(self, num1: int, num2: int) -> int:\n",
    "        return num1 + num2"
   ]
  },
  {
   "cell_type": "code",
   "execution_count": 2,
   "id": "521c2eee",
   "metadata": {},
   "outputs": [
    {
     "data": {
      "text/plain": [
       "12"
      ]
     },
     "execution_count": 2,
     "metadata": {},
     "output_type": "execute_result"
    }
   ],
   "source": [
    "Solution().sum(5, 7)"
   ]
  },
  {
   "cell_type": "markdown",
   "id": "ec6cdffc",
   "metadata": {},
   "source": [
    "let's break down the code step by step:\n",
    "\n",
    "1. `class Solution:`: This line starts the definition of a Python class named `Solution`. A class is a blueprint for creating objects (instances) that share common attributes and methods.\n",
    "\n",
    "2. `def sum(self, num1: int, num2: int) -> int:`: Within the `Solution` class, this line defines a method named `sum`. Here's what each part means:\n",
    "   - `def`: This keyword is used to define a function (in this case, a method).\n",
    "   - `sum`: This is the name of the method.\n",
    "   - `(self, num1: int, num2: int)`: These are the method's parameters. \n",
    "     - `self`: It's a convention in Python to include `self` as the first parameter in instance methods. `self` refers to the instance of the class itself and is used to access class attributes and other methods.\n",
    "     - `num1: int, num2: int`: These are the parameters the `sum` method expects. They are both of type `int`, which means they should be integers.\n",
    "   - `-> int:`: This part of the method signature specifies the return type of the method, which is `int` in this case. It indicates that the `sum` method is expected to return an integer.\n",
    "\n",
    "3. `return num1 + num2`: This is the body of the `sum` method. It performs a simple addition operation on the `num1` and `num2` parameters and returns the result as an integer. In other words, when you call this method with two integers, it will return their sum.\n",
    "\n",
    "So, in summary, this code defines a Python class called `Solution` with a method `sum` that takes two integer arguments (`num1` and `num2`) and returns their sum as an integer. You can create instances of the `Solution` class and use the `sum` method to add two numbers together."
   ]
  },
  {
   "cell_type": "markdown",
   "id": "77bee0e5",
   "metadata": {},
   "source": [
    "Reference: Leetcode"
   ]
  },
  {
   "cell_type": "code",
   "execution_count": null,
   "id": "425e830b",
   "metadata": {},
   "outputs": [],
   "source": []
  }
 ],
 "metadata": {
  "kernelspec": {
   "display_name": "Python 3 (ipykernel)",
   "language": "python",
   "name": "python3"
  },
  "language_info": {
   "codemirror_mode": {
    "name": "ipython",
    "version": 3
   },
   "file_extension": ".py",
   "mimetype": "text/x-python",
   "name": "python",
   "nbconvert_exporter": "python",
   "pygments_lexer": "ipython3",
   "version": "3.11.3"
  }
 },
 "nbformat": 4,
 "nbformat_minor": 5
}
