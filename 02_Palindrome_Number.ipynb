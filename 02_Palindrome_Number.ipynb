{
 "cells": [
  {
   "cell_type": "markdown",
   "id": "fe6e0d70",
   "metadata": {},
   "source": [
    "### Given an integer x, return true if x is a palindrome, and false otherwise.\n",
    "\n",
    "#### Example 1:\n",
    "\n",
    "Input: x = 121 <br>\n",
    "Output: true <br>\n",
    "Explanation: 121 reads as 121 from left to right and from right to left.\n",
    "\n",
    "#### Example 2:\n",
    "\n",
    "Input: x = -121 <br>\n",
    "Output: false  <br>\n",
    "Explanation: From left to right, it reads -121. From right to left, it becomes 121-. Therefore it is not a palindrome.\n",
    "\n",
    "#### Example 3:\n",
    "\n",
    "Input: x = 10 <br>\n",
    "Output: false <br>\n",
    "Explanation: Reads 01 from right to left. Therefore it is not a palindrome."
   ]
  },
  {
   "cell_type": "markdown",
   "id": "22ec4138",
   "metadata": {},
   "source": [
    "## Solution 1:"
   ]
  },
  {
   "cell_type": "code",
   "execution_count": 67,
   "id": "d88ed4de",
   "metadata": {},
   "outputs": [],
   "source": [
    "def isPalindrome(x: int) -> bool:\n",
    "    \n",
    "    # Convert the integer to a string\n",
    "    x_str = str(x)\n",
    "    \n",
    "    # Check if the string is equal to its reverse\n",
    "    return x_str == x_str[::-1]\n"
   ]
  },
  {
   "cell_type": "code",
   "execution_count": 68,
   "id": "a7f87ba6",
   "metadata": {},
   "outputs": [
    {
     "data": {
      "text/plain": [
       "True"
      ]
     },
     "execution_count": 68,
     "metadata": {},
     "output_type": "execute_result"
    }
   ],
   "source": [
    "isitPalindrome(121)"
   ]
  },
  {
   "cell_type": "code",
   "execution_count": 70,
   "id": "a6df9b10",
   "metadata": {},
   "outputs": [
    {
     "data": {
      "text/plain": [
       "False"
      ]
     },
     "execution_count": 70,
     "metadata": {},
     "output_type": "execute_result"
    }
   ],
   "source": [
    "isitPalindrome(10)"
   ]
  },
  {
   "cell_type": "code",
   "execution_count": 71,
   "id": "8aa723b9",
   "metadata": {},
   "outputs": [
    {
     "data": {
      "text/plain": [
       "False"
      ]
     },
     "execution_count": 71,
     "metadata": {},
     "output_type": "execute_result"
    }
   ],
   "source": [
    "isitPalindrome(-121)"
   ]
  },
  {
   "cell_type": "code",
   "execution_count": null,
   "id": "72622a36",
   "metadata": {},
   "outputs": [],
   "source": []
  },
  {
   "cell_type": "markdown",
   "id": "5c64b759",
   "metadata": {},
   "source": [
    "## Solution 2: "
   ]
  },
  {
   "cell_type": "code",
   "execution_count": 74,
   "id": "cae1af3f",
   "metadata": {},
   "outputs": [],
   "source": [
    "def is_palindrome(x):\n",
    "    \n",
    "    # Handle negative numbers and numbers ending with 0\n",
    "    if x < 0 or (x % 10 == 0 and x != 0):\n",
    "        return False\n",
    "\n",
    "    # Initialize a variable to store the reversed number\n",
    "    reversed_x = 0\n",
    "\n",
    "    while x > reversed_x:\n",
    "        # Pop the last digit from x and add it to reversed_x\n",
    "        reversed_x = reversed_x * 10 + x % 10\n",
    "        x //= 10\n",
    "\n",
    "    # If the number has an odd number of digits, we can ignore the middle digit\n",
    "    # For example, for 12321, x will be 12, and reversed_x will be 123\n",
    "    # For 1221, x will be 12, and reversed_x will also be 12\n",
    "    # In both cases, they are palindromes\n",
    "    return x == reversed_x or x == reversed_x // 10\n"
   ]
  },
  {
   "cell_type": "code",
   "execution_count": 64,
   "id": "cf43e46c",
   "metadata": {},
   "outputs": [
    {
     "name": "stdout",
     "output_type": "stream",
     "text": [
      "True\n"
     ]
    }
   ],
   "source": [
    "# Call the function without self\n",
    "print(isitPalindrome(1221))"
   ]
  },
  {
   "cell_type": "code",
   "execution_count": 72,
   "id": "d450b695",
   "metadata": {},
   "outputs": [
    {
     "name": "stdout",
     "output_type": "stream",
     "text": [
      "True\n"
     ]
    }
   ],
   "source": [
    "print(is_palindrome(121))"
   ]
  },
  {
   "cell_type": "code",
   "execution_count": 73,
   "id": "cc740543",
   "metadata": {},
   "outputs": [
    {
     "name": "stdout",
     "output_type": "stream",
     "text": [
      "False\n"
     ]
    }
   ],
   "source": [
    "print(is_palindrome(-121))"
   ]
  },
  {
   "cell_type": "code",
   "execution_count": 21,
   "id": "236ffc21",
   "metadata": {},
   "outputs": [
    {
     "name": "stdout",
     "output_type": "stream",
     "text": [
      "False\n"
     ]
    }
   ],
   "source": [
    "print(is_palindrome(100))"
   ]
  },
  {
   "cell_type": "code",
   "execution_count": 37,
   "id": "25fd1c33",
   "metadata": {},
   "outputs": [
    {
     "name": "stdout",
     "output_type": "stream",
     "text": [
      "True\n"
     ]
    }
   ],
   "source": [
    "print(is_palindrome(1221))"
   ]
  },
  {
   "cell_type": "code",
   "execution_count": null,
   "id": "507613a9",
   "metadata": {},
   "outputs": [],
   "source": []
  },
  {
   "cell_type": "code",
   "execution_count": 53,
   "id": "42cb0cc1",
   "metadata": {},
   "outputs": [],
   "source": [
    "x_str1 = 678"
   ]
  },
  {
   "cell_type": "code",
   "execution_count": 57,
   "id": "3ed249d1",
   "metadata": {},
   "outputs": [],
   "source": [
    "x_str1 = str(x_str1)"
   ]
  },
  {
   "cell_type": "code",
   "execution_count": 59,
   "id": "ab97d052",
   "metadata": {},
   "outputs": [
    {
     "data": {
      "text/plain": [
       "str"
      ]
     },
     "execution_count": 59,
     "metadata": {},
     "output_type": "execute_result"
    }
   ],
   "source": [
    "type(x_str1)"
   ]
  },
  {
   "cell_type": "code",
   "execution_count": 60,
   "id": "7fdaf7a1",
   "metadata": {},
   "outputs": [
    {
     "data": {
      "text/plain": [
       "False"
      ]
     },
     "execution_count": 60,
     "metadata": {},
     "output_type": "execute_result"
    }
   ],
   "source": [
    "x_str1 == x_str1[::-1]"
   ]
  },
  {
   "cell_type": "code",
   "execution_count": 61,
   "id": "714fe7b0",
   "metadata": {},
   "outputs": [
    {
     "data": {
      "text/plain": [
       "'876'"
      ]
     },
     "execution_count": 61,
     "metadata": {},
     "output_type": "execute_result"
    }
   ],
   "source": [
    "x_str1[::-1] "
   ]
  },
  {
   "cell_type": "code",
   "execution_count": 62,
   "id": "964e1e49",
   "metadata": {},
   "outputs": [
    {
     "data": {
      "text/plain": [
       "'678'"
      ]
     },
     "execution_count": 62,
     "metadata": {},
     "output_type": "execute_result"
    }
   ],
   "source": [
    "x_str1"
   ]
  },
  {
   "cell_type": "code",
   "execution_count": null,
   "id": "ecd0f43d",
   "metadata": {},
   "outputs": [],
   "source": []
  }
 ],
 "metadata": {
  "kernelspec": {
   "display_name": "Python 3 (ipykernel)",
   "language": "python",
   "name": "python3"
  },
  "language_info": {
   "codemirror_mode": {
    "name": "ipython",
    "version": 3
   },
   "file_extension": ".py",
   "mimetype": "text/x-python",
   "name": "python",
   "nbconvert_exporter": "python",
   "pygments_lexer": "ipython3",
   "version": "3.11.3"
  }
 },
 "nbformat": 4,
 "nbformat_minor": 5
}
